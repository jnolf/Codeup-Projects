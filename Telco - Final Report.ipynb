{
 "cells": [
  {
   "cell_type": "code",
   "execution_count": 119,
   "id": "62702f8b",
   "metadata": {},
   "outputs": [],
   "source": [
    "import pandas as pd\n",
    "import numpy as np\n",
    "import matplotlib.pyplot as plt\n",
    "import seaborn as sns\n",
    "import scipy.stats as stats\n",
    "\n",
    "from sklearn.ensemble import RandomForestClassifier\n",
    "from sklearn.model_selection import train_test_split\n",
    "from sklearn.metrics import accuracy_score\n",
    "from sklearn.metrics import precision_score\n",
    "from sklearn.metrics import recall_score\n",
    "from sklearn.metrics import classification_report\n",
    "from sklearn.metrics import confusion_matrix\n",
    "from sklearn.tree import DecisionTreeClassifier, plot_tree, export_text\n",
    "from sklearn.neighbors import KNeighborsClassifier\n",
    "from sklearn.linear_model import LogisticRegression\n",
    "\n",
    "import warnings\n",
    "warnings.filterwarnings('ignore')\n",
    "\n",
    "import acquire \n",
    "import prepare "
   ]
  },
  {
   "cell_type": "markdown",
   "id": "ada26c69",
   "metadata": {},
   "source": [
    " ----"
   ]
  },
  {
   "cell_type": "markdown",
   "id": "7e378e5b",
   "metadata": {},
   "source": [
    "### Project Goal:\n",
    "The objective for this project is to identify drivers of overall churn of customers. Once those drivers are identified, they can be used for more focused marketing campaigns towards individuals who are seen as being at high risk of churning. "
   ]
  },
  {
   "cell_type": "markdown",
   "id": "d390de57",
   "metadata": {},
   "source": [
    "----"
   ]
  },
  {
   "cell_type": "markdown",
   "id": "46cd0dbc",
   "metadata": {},
   "source": [
    "### Acquiring the data:\n",
    "\n",
    "Our data will be pulled from our Telco SQL database. In our SQL query, we joined the following relational databases together:\n",
    "        \n",
    "        - customers\n",
    "        - internet_service_types\n",
    "        - contract_types\n",
    "        - payment_types\n",
    "        \n",
    "This will allow for the gathering of all relevant data into one database. Once the data is acquired for the first time, it will create a .csv file that can be pulled from the active directory.\n",
    "\n",
    "An acquire.py file will also be created in order to perform the above steps by simply importing acquire and using the its local 'get_telco_data' function."
   ]
  },
  {
   "cell_type": "code",
   "execution_count": 120,
   "id": "412ca0a4",
   "metadata": {},
   "outputs": [
    {
     "name": "stdout",
     "output_type": "stream",
     "text": [
      "Using cached csv\n"
     ]
    },
    {
     "data": {
      "text/plain": [
       "(7043, 24)"
      ]
     },
     "execution_count": 120,
     "metadata": {},
     "output_type": "execute_result"
    }
   ],
   "source": [
    "# Acquire the data using the acquire.py from the telco database\n",
    "df = acquire.get_telco_data()\n",
    "df.shape"
   ]
  },
  {
   "cell_type": "markdown",
   "id": "d13262e6",
   "metadata": {},
   "source": [
    "After acquiring and specifying the data we want, we see that it results in a DataFrame that has 7043 entries in 24 columns."
   ]
  },
  {
   "cell_type": "markdown",
   "id": "76350bbe",
   "metadata": {},
   "source": [
    "-----"
   ]
  },
  {
   "cell_type": "markdown",
   "id": "82e91439",
   "metadata": {},
   "source": [
    "### Preparing the data:\n",
    "After acquisition, the prepare.py file can be used to call for 'train, validate, test'. With this call, a series of functions are used in order to do the following:\n",
    "\n",
    "    - Drop duplicates that are not needed for analysis\n",
    "    - Ensure that that 'total_charges' column is usable as a float\n",
    "    - Encode data so that it is more suitable for machine learning\n",
    "    - Rename columns to more user friendly terms\n",
    "    - Split the data into proper train, validate, and test samples\n",
    "    - Combine all actions into a single callable function"
   ]
  },
  {
   "cell_type": "code",
   "execution_count": 121,
   "id": "476d0a6c",
   "metadata": {},
   "outputs": [
    {
     "data": {
      "text/plain": [
       "((3943, 41), (1691, 41), (1409, 41))"
      ]
     },
     "execution_count": 121,
     "metadata": {},
     "output_type": "execute_result"
    }
   ],
   "source": [
    "# Call the function to return train, validate,and test splits\n",
    "train, validate, test = prepare.prep_telco(df)\n",
    "train.shape, validate.shape, test.shape"
   ]
  },
  {
   "cell_type": "markdown",
   "id": "389b1048",
   "metadata": {},
   "source": [
    "After running our encoding and split, our dataset becomes wider at 41 columns. This is because we have to allow each usable column to break into binary so that we can use it for machine learning. The shape has decreased in size to 56% for the training data set, 24% for the validate dataset, and 20% for our test dataset. This helps us determine that our split was done correctly."
   ]
  },
  {
   "cell_type": "markdown",
   "id": "c6dfb5e4",
   "metadata": {},
   "source": [
    "----"
   ]
  },
  {
   "cell_type": "markdown",
   "id": "752857c9",
   "metadata": {},
   "source": [
    "### Exploring the Data:"
   ]
  },
  {
   "cell_type": "markdown",
   "id": "88e9f942",
   "metadata": {},
   "source": [
    "After running a correlation plot, we have a few questions about the driver that correlated the most with customers churn..."
   ]
  },
  {
   "cell_type": "markdown",
   "id": "da8b1f37",
   "metadata": {},
   "source": [
    "----"
   ]
  },
  {
   "cell_type": "markdown",
   "id": "f7fb9bbf",
   "metadata": {},
   "source": [
    "#### Question #1: Do churning customers pay the same amount on average as other customers?"
   ]
  },
  {
   "cell_type": "markdown",
   "id": "916821c7",
   "metadata": {},
   "source": [
    "#### Visualization:"
   ]
  },
  {
   "cell_type": "code",
   "execution_count": 122,
   "id": "a21ed8d2",
   "metadata": {},
   "outputs": [
    {
     "data": {
      "text/plain": [
       "<function matplotlib.pyplot.show(close=None, block=None)>"
      ]
     },
     "execution_count": 122,
     "metadata": {},
     "output_type": "execute_result"
    },
    {
     "data": {
      "image/png": "[encoded data removed]",
      "text/plain": [
       "<Figure size 720x360 with 1 Axes>"
      ]
     },
     "metadata": {
      "needs_background": "light"
     },
     "output_type": "display_data"
    }
   ],
   "source": [
    "plt.figure(figsize= (10,5))\n",
    "sns.histplot(train, \n",
    "             x=train.monthly_charges, \n",
    "             hue='churn', \n",
    "             multiple ='stack',\n",
    "            legend = False,\n",
    "            palette = 'colorblind')\n",
    "plt.title('Churned Customers Are Paying Higher Monthly Charges', fontsize = 20)\n",
    "plt.xlabel('Monthly Charges', fontsize = 14)\n",
    "plt.ylabel('Customer Count', fontsize = 14)\n",
    "plt.xticks(fontsize = 12)\n",
    "plt.yticks(fontsize = 12)\n",
    "plt.legend(labels = ['All Customers', 'Churned Customers'])\n",
    "plt.show"
   ]
  },
  {
   "cell_type": "markdown",
   "id": "6d885481",
   "metadata": {},
   "source": [
    "#### Statistical Testing - T-Test"
   ]
  },
  {
   "cell_type": "markdown",
   "id": "0ea2f62b",
   "metadata": {},
   "source": [
    "#### Hypothesis:\n",
    "  -  H0: Churning customers' monthly charges = Other customers' monthly charges.\n",
    "  -  Ha: Churning customers' monthly charges != Other customers' monthly charges."
   ]
  },
  {
   "cell_type": "code",
   "execution_count": 123,
   "id": "2edf72a9",
   "metadata": {},
   "outputs": [
    {
     "name": "stdout",
     "output_type": "stream",
     "text": [
      "We reject the Null Hypothesis\n"
     ]
    }
   ],
   "source": [
    "# Set te alpha for the test\n",
    "alpha = .05\n",
    "# Create variable names to input into our test\n",
    "train_churn = train[train.churn==1].monthly_charges\n",
    "overall_mean = train.monthly_charges.mean()\n",
    "# Run the test to retrieve t and p\n",
    "t,p = stats.ttest_1samp(train_churn, overall_mean)\n",
    "# Run print statements depending on the tests outcome\n",
    "if p/2 > alpha:\n",
    "    print(\"We fail to reject the Null Hypothesis\")\n",
    "elif t < 0:\n",
    "    print(\"We fail to reject the Null Hypothesis\")\n",
    "else:\n",
    "    print(\"We reject the Null Hypothesis\")"
   ]
  },
  {
   "cell_type": "markdown",
   "id": "20db61bb",
   "metadata": {},
   "source": [
    "#### Answer to question # 1:"
   ]
  },
  {
   "cell_type": "markdown",
   "id": "1a58bcdd",
   "metadata": {},
   "source": [
    "Visualizing the issue makes it obvious that churning customers are paying much more than our typical customers. This understanding is enforced by our statistical analyisis considering we reject our null hypothesis that states they pay the same on average. "
   ]
  },
  {
   "cell_type": "markdown",
   "id": "81db756f",
   "metadata": {},
   "source": [
    "----"
   ]
  },
  {
   "cell_type": "markdown",
   "id": "6f04c444",
   "metadata": {},
   "source": [
    "#### Question #2: In what year do most customers churn?"
   ]
  },
  {
   "cell_type": "markdown",
   "id": "18206ffa",
   "metadata": {},
   "source": [
    "#### Visualization:"
   ]
  },
  {
   "cell_type": "code",
   "execution_count": 124,
   "id": "74117d17",
   "metadata": {},
   "outputs": [
    {
     "data": {
      "text/plain": [
       "<matplotlib.lines.Line2D at 0x7fe8a0138dc0>"
      ]
     },
     "execution_count": 124,
     "metadata": {},
     "output_type": "execute_result"
    },
    {
     "data": {
      "image/png": "[encoded data removed]",
      "text/plain": [
       "<Figure size 504x504 with 1 Axes>"
      ]
     },
     "metadata": {
      "needs_background": "light"
     },
     "output_type": "display_data"
    }
   ],
   "source": [
    "chrn = sns.catplot( x= 'churn', y = 'tenure',\n",
    "            kind = 'swarm', palette = 'colorblind', \n",
    "            size = 7, aspect = 1,\n",
    "            data = train[train.churn == 1])\n",
    "plt.title('Most Churned Customers Did So Within the First Year', fontsize = 15)\n",
    "plt.xlabel('Customers Who Churn', fontsize = 14)\n",
    "plt.ylabel('Months with Telco', fontsize = 14)\n",
    "plt.yticks([12,24,36,48,60,72])\n",
    "plt.xticks(fontsize = 12)\n",
    "plt.yticks(fontsize = 12)\n",
    "chrn.set_xticklabels([''])\n",
    "plt.axhline(y=12, linestyle = '-', color = 'grey')\n",
    "plt.axhline(y=24, linestyle = '-', color = 'grey')\n",
    "plt.axhline(y=36, linestyle = '-', color = 'grey')\n",
    "plt.axhline(y=48, linestyle = '-', color = 'grey')\n",
    "plt.axhline(y=60, linestyle = '-', color = 'grey')\n",
    "plt.axhline(y=72, linestyle = '-', color = 'grey')"
   ]
  },
  {
   "cell_type": "markdown",
   "id": "5f09fa28",
   "metadata": {},
   "source": [
    "#### Answer to Question #2:"
   ]
  },
  {
   "cell_type": "markdown",
   "id": "baf47326",
   "metadata": {},
   "source": [
    "The above visual shows the first year is by far the most likely year that customers churn."
   ]
  },
  {
   "cell_type": "markdown",
   "id": "01dedd4c",
   "metadata": {},
   "source": [
    "----"
   ]
  },
  {
   "cell_type": "markdown",
   "id": "166207a1",
   "metadata": {},
   "source": [
    "#### Question #3: Are  customer churn and internet service types related?"
   ]
  },
  {
   "cell_type": "markdown",
   "id": "9697a31f",
   "metadata": {},
   "source": [
    "#### Visualization:"
   ]
  },
  {
   "cell_type": "code",
   "execution_count": 125,
   "id": "fc7e51e3",
   "metadata": {},
   "outputs": [
    {
     "data": {
      "image/png": "[encoded data removed]",
      "text/plain": [
       "<Figure size 360x360 with 1 Axes>"
      ]
     },
     "metadata": {
      "needs_background": "light"
     },
     "output_type": "display_data"
    }
   ],
   "source": [
    "avg_churn = train.churn.mean()\n",
    "internet = sns.catplot(data=train, \n",
    "            x='internet_type', \n",
    "            y='churn', \n",
    "            kind='bar',\n",
    "            )\n",
    "plt.title('Fiber Customers Churn at a Much Higher Rate', fontsize = 15)\n",
    "plt.xticks(fontsize = 14)\n",
    "plt.yticks(fontsize = 12)\n",
    "plt.ylabel('Churn',fontsize = 14)\n",
    "plt.xlabel('')\n",
    "plt.axhline(avg_churn, label='overall churn rate')\n",
    "internet.set_xticklabels(['DSL', 'Fiber', 'No Internet'])\n",
    "plt.show()"
   ]
  },
  {
   "cell_type": "markdown",
   "id": "a00b4f7b",
   "metadata": {},
   "source": [
    "#### Statistical Testing - Chi^2"
   ]
  },
  {
   "cell_type": "markdown",
   "id": "4d7717d4",
   "metadata": {},
   "source": [
    "#### Hypothesis:\n",
    "  -  H0: Internet service type is independent of customer churn\n",
    "  -  Ha: Internet service type is not independent of customer churn"
   ]
  },
  {
   "cell_type": "code",
   "execution_count": 126,
   "id": "117a81f9",
   "metadata": {},
   "outputs": [
    {
     "name": "stdout",
     "output_type": "stream",
     "text": [
      "Observed\n",
      "\n",
      "[[1095 1019  783]\n",
      " [ 254  726   66]]\n",
      "=============================================\n",
      "Expected\n",
      "\n",
      "[[ 991.13695156 1282.08597515  623.77707329]\n",
      " [ 357.86304844  462.91402485  225.22292671]]\n",
      "=============================================\n",
      "\n",
      "chi^2 = 397.74\n",
      "p     = 0.00\n",
      "We reject the null hypothesis.\n"
     ]
    }
   ],
   "source": [
    "# Set the alpha for the test\n",
    "alpha = .01\n",
    "# Create a crosstab for internet type and churn\n",
    "observed = pd.crosstab(train.churn, train.internet_service_type)\n",
    "# Run the chi^2 test to retrieve the following\n",
    "chi2, p, degf, expected = stats.chi2_contingency(observed)\n",
    "\n",
    "print('Observed\\n')\n",
    "print(observed.values)\n",
    "print('=============================================\\nExpected\\n')\n",
    "print(expected)\n",
    "print('=============================================\\n')\n",
    "print(f'chi^2 = {chi2:.2f}')\n",
    "print(f'p     = {p:.2f}')\n",
    "if p<alpha:\n",
    "    print('We reject the null hypothesis.')\n",
    "else:\n",
    "    print('We fail to reject the null hypothesis.')"
   ]
  },
  {
   "cell_type": "markdown",
   "id": "4062bb0b",
   "metadata": {},
   "source": [
    "#### Answer to question # 3:"
   ]
  },
  {
   "cell_type": "markdown",
   "id": "5db4be90",
   "metadata": {},
   "source": [
    "With the use of our visualization and chi^2 test, we can reject the null hypothesis. This means we can say with a 99% accuracy that internet service type and churn are not independent of each other."
   ]
  },
  {
   "cell_type": "markdown",
   "id": "bd0bbadf",
   "metadata": {},
   "source": [
    "----"
   ]
  },
  {
   "cell_type": "markdown",
   "id": "eac1c109",
   "metadata": {},
   "source": [
    "#### Question #4: Do month-to-month customers really churn at a higher rate than all others?"
   ]
  },
  {
   "cell_type": "markdown",
   "id": "23135049",
   "metadata": {},
   "source": [
    "#### Visualization:"
   ]
  },
  {
   "cell_type": "code",
   "execution_count": 127,
   "id": "b046e9dd",
   "metadata": {},
   "outputs": [
    {
     "data": {
      "text/plain": [
       "Text(0, 0.5, 'Customer Count')"
      ]
     },
     "execution_count": 127,
     "metadata": {},
     "output_type": "execute_result"
    },
    {
     "data": {
      "image/png": "[encoded data removed]",
      "text/plain": [
       "<Figure size 576x288 with 1 Axes>"
      ]
     },
     "metadata": {
      "needs_background": "light"
     },
     "output_type": "display_data"
    }
   ],
   "source": [
    "churn_df = pd.DataFrame({'Yes':train.churn.sum(),\n",
    "                         'No':(train.churn == 0).sum()}, \n",
    "                         index = ['Churn']).T\n",
    "labels = churn_df.index\n",
    "plt.figure(figsize = (8, 4))\n",
    "mtm = sns.countplot(x='month_to_month', \n",
    "              hue = 'churn', \n",
    "              palette = 'colorblind', \n",
    "              data = train)\n",
    "plt.title('Month-to-month Customers Churn', fontsize = 15)\n",
    "plt.legend(labels = ['Has Not Churned', 'Has Churned'])\n",
    "plt.xticks(fontsize = 14)\n",
    "plt.yticks(fontsize = 10)\n",
    "mtm.set_xticklabels(['Not Month-to-Month','Month-to-Month'])\n",
    "plt.xlabel('', fontsize = 14)\n",
    "plt.ylabel('Customer Count', fontsize = 14)"
   ]
  },
  {
   "cell_type": "markdown",
   "id": "dcdb8f30",
   "metadata": {},
   "source": [
    "#### Answer to #4:"
   ]
  },
  {
   "cell_type": "markdown",
   "id": "b4d21e9c",
   "metadata": {},
   "source": [
    "Based on the graphic above, month-to-month contract churn at a much higher rate than other contracts."
   ]
  },
  {
   "cell_type": "markdown",
   "id": "fa83b920",
   "metadata": {},
   "source": [
    "----"
   ]
  },
  {
   "cell_type": "markdown",
   "id": "2d6bbb12",
   "metadata": {},
   "source": [
    "### Modeling the data:"
   ]
  },
  {
   "cell_type": "code",
   "execution_count": 128,
   "id": "3a8e5abd",
   "metadata": {},
   "outputs": [],
   "source": [
    "# Define features for our model\n",
    "features =['monthly_charges',\n",
    "         'month_to_month',\n",
    "         'tenure',\n",
    "         'fiber_int',\n",
    "         'dsl_int',\n",
    "         'no_internet',\n",
    "         'bt_auto',\n",
    "         'cc_auto',\n",
    "         'elecc_nonauto',\n",
    "         'mailc_nonauto',\n",
    "         'senior_citizen',\n",
    "         'paperless_billing']\n",
    "# Define target\n",
    "target = 'churn'\n",
    "# create x and y for train, validate, and test sets \n",
    "x_train = train[features]\n",
    "y_train = train[target]\n",
    "x_validate = validate[features]\n",
    "y_validate = validate[target]\n",
    "x_test = test[features]\n",
    "y_test = test[target]"
   ]
  },
  {
   "cell_type": "markdown",
   "id": "97e49d28",
   "metadata": {},
   "source": [
    "#### Set a baseline:"
   ]
  },
  {
   "cell_type": "code",
   "execution_count": 129,
   "id": "fc536664",
   "metadata": {
    "scrolled": true
   },
   "outputs": [
    {
     "name": "stdout",
     "output_type": "stream",
     "text": [
      "The Baseline Accuracy is 73.47%\n"
     ]
    }
   ],
   "source": [
    "# Obtain the mode for the target to find most occuring.\n",
    "baseline = y_train.mode()\n",
    "# See when the train and prediction matches up. \n",
    "matches_baseline_prediction = (y_train == 0)\n",
    "# Match prediction against the train data and take the \n",
    "# mean of how many times it occurs. \n",
    "baseline_accuracy = matches_baseline_prediction.mean()\n",
    "\n",
    "print(f'The Baseline Accuracy is {baseline_accuracy:.2%}')"
   ]
  },
  {
   "cell_type": "markdown",
   "id": "727c2729",
   "metadata": {},
   "source": [
    "#### Decision Tree:"
   ]
  },
  {
   "cell_type": "code",
   "execution_count": 130,
   "id": "9bcc5828",
   "metadata": {},
   "outputs": [
    {
     "name": "stdout",
     "output_type": "stream",
     "text": [
      "Accuracy of Decision Tree Classifier on the training set is 82.42%\n",
      "Accuracy of Decision Tree Classifier on the validate set is 79.24%\n"
     ]
    }
   ],
   "source": [
    "#Create the model\n",
    "tree = DecisionTreeClassifier(max_depth=7, random_state=123)\n",
    "# Fit the model\n",
    "tree.fit(x_train, y_train)\n",
    "# Evaluate the model\n",
    "# Accuracy on train for the Decision Tree:\n",
    "print(f'Accuracy of Decision Tree Classifier on the training set is {(tree.score(x_train, y_train)):.2%}')\n",
    "# Accuracy on validate for the Decision Tree:\n",
    "print(f'Accuracy of Decision Tree Classifier on the validate set is {(tree.score(x_validate, y_validate)):.2%}')"
   ]
  },
  {
   "cell_type": "markdown",
   "id": "6a429999",
   "metadata": {},
   "source": [
    "#### Random Forest Model:"
   ]
  },
  {
   "cell_type": "code",
   "execution_count": 131,
   "id": "a0e2f577",
   "metadata": {},
   "outputs": [
    {
     "name": "stdout",
     "output_type": "stream",
     "text": [
      "Accuracy of Random Forest on the training set is 82.45%\n",
      "Accuracy of Random Forest on the validate set is 79.66%\n"
     ]
    }
   ],
   "source": [
    "# Create the model\n",
    "rf = RandomForestClassifier(max_depth=10,min_samples_leaf=10,random_state=1349)\n",
    "# Fit the model\n",
    "rf.fit(x_train, y_train)\n",
    "# Accuracy on train for the Random Forest:\n",
    "print(f'Accuracy of Random Forest on the training set is {(rf.score(x_train, y_train)):.2%}')\n",
    "# Accuracy on validate for the Random Forest:\n",
    "print(f'Accuracy of Random Forest on the validate set is {(rf.score(x_validate, y_validate)):.2%}')"
   ]
  },
  {
   "cell_type": "markdown",
   "id": "915355f3",
   "metadata": {},
   "source": [
    "#### K's Nearest Neighbors:"
   ]
  },
  {
   "cell_type": "code",
   "execution_count": 132,
   "id": "712c0f69",
   "metadata": {},
   "outputs": [
    {
     "name": "stdout",
     "output_type": "stream",
     "text": [
      "Accuracy of KNN on the training set is 83.69%\n",
      "Accuracy of KNN on the validate set is 77.29%\n"
     ]
    }
   ],
   "source": [
    "# Create the model\n",
    "knn = KNeighborsClassifier(n_neighbors=5)\n",
    "# Fit the model\n",
    "knn.fit(x_train,y_train)\n",
    "# Accuracy on train for  KNN:\n",
    "print(f'Accuracy of KNN on the training set is {(knn.score(x_train, y_train)):.2%}')\n",
    "# Accuracy on validate for KNN:\n",
    "print(f'Accuracy of KNN on the validate set is {(knn.score(x_validate, y_validate)):.2%}')"
   ]
  },
  {
   "cell_type": "markdown",
   "id": "df3fbba8",
   "metadata": {},
   "source": [
    "#### Logistical Regression:"
   ]
  },
  {
   "cell_type": "code",
   "execution_count": 133,
   "id": "1880181a",
   "metadata": {},
   "outputs": [
    {
     "name": "stdout",
     "output_type": "stream",
     "text": [
      "Accuracy of Logistic Regression on the training set is 79.61%\n",
      "Accuracy of Logistic Regression on the validate set is 79.42%\n"
     ]
    }
   ],
   "source": [
    "# Create the model\n",
    "logit = LogisticRegression(C=1, random_state=123)\n",
    "# Fit the model\n",
    "logit.fit(x_train, y_train)\n",
    "# Accuracy on train for  KNN:\n",
    "print(f'Accuracy of Logistic Regression on the training set is {(logit.score(x_train, y_train)):.2%}')\n",
    "# Accuracy on validate for KNN:\n",
    "print(f'Accuracy of Logistic Regression on the validate set is {(logit.score(x_validate, y_validate)):.2%}')"
   ]
  },
  {
   "cell_type": "markdown",
   "id": "0ea6c389",
   "metadata": {},
   "source": [
    "----"
   ]
  },
  {
   "cell_type": "markdown",
   "id": "e2369e0b",
   "metadata": {},
   "source": [
    "#### Assess what model is 'best' to run on the  test dataset"
   ]
  },
  {
   "cell_type": "markdown",
   "id": "6c680ae1",
   "metadata": {},
   "source": [
    "While Decision Tree, Random Forest, and Logistical Regression models came in within half a percent, the Random Forest model edges the others out with a 79.66% accuracy score on the validate dataset. This model beats our baseline by 6.19%."
   ]
  },
  {
   "cell_type": "markdown",
   "id": "6fe817ed",
   "metadata": {},
   "source": [
    "----"
   ]
  },
  {
   "cell_type": "markdown",
   "id": "a36e7b67",
   "metadata": {},
   "source": [
    "#### Running the Random Forest model on the test dataset."
   ]
  },
  {
   "cell_type": "code",
   "execution_count": 134,
   "id": "407861c1",
   "metadata": {},
   "outputs": [
    {
     "data": {
      "text/html": [
       "<div>\n",
       "<style scoped>\n",
       "    .dataframe tbody tr th:only-of-type {\n",
       "        vertical-align: middle;\n",
       "    }\n",
       "\n",
       "    .dataframe tbody tr th {\n",
       "        vertical-align: top;\n",
       "    }\n",
       "\n",
       "    .dataframe thead th {\n",
       "        text-align: right;\n",
       "    }\n",
       "</style>\n",
       "<table border=\"1\" class=\"dataframe\">\n",
       "  <thead>\n",
       "    <tr style=\"text-align: right;\">\n",
       "      <th></th>\n",
       "      <th>precision</th>\n",
       "      <th>recall</th>\n",
       "      <th>f1-score</th>\n",
       "      <th>support</th>\n",
       "    </tr>\n",
       "  </thead>\n",
       "  <tbody>\n",
       "    <tr>\n",
       "      <th>0</th>\n",
       "      <td>0.845662</td>\n",
       "      <td>0.894686</td>\n",
       "      <td>0.869484</td>\n",
       "      <td>1035.000000</td>\n",
       "    </tr>\n",
       "    <tr>\n",
       "      <th>1</th>\n",
       "      <td>0.652866</td>\n",
       "      <td>0.548128</td>\n",
       "      <td>0.595930</td>\n",
       "      <td>374.000000</td>\n",
       "    </tr>\n",
       "    <tr>\n",
       "      <th>accuracy</th>\n",
       "      <td>0.802697</td>\n",
       "      <td>0.802697</td>\n",
       "      <td>0.802697</td>\n",
       "      <td>0.802697</td>\n",
       "    </tr>\n",
       "    <tr>\n",
       "      <th>macro avg</th>\n",
       "      <td>0.749264</td>\n",
       "      <td>0.721407</td>\n",
       "      <td>0.732707</td>\n",
       "      <td>1409.000000</td>\n",
       "    </tr>\n",
       "    <tr>\n",
       "      <th>weighted avg</th>\n",
       "      <td>0.794487</td>\n",
       "      <td>0.802697</td>\n",
       "      <td>0.796873</td>\n",
       "      <td>1409.000000</td>\n",
       "    </tr>\n",
       "  </tbody>\n",
       "</table>\n",
       "</div>"
      ],
      "text/plain": [
       "              precision    recall  f1-score      support\n",
       "0              0.845662  0.894686  0.869484  1035.000000\n",
       "1              0.652866  0.548128  0.595930   374.000000\n",
       "accuracy       0.802697  0.802697  0.802697     0.802697\n",
       "macro avg      0.749264  0.721407  0.732707  1409.000000\n",
       "weighted avg   0.794487  0.802697  0.796873  1409.000000"
      ]
     },
     "execution_count": 134,
     "metadata": {},
     "output_type": "execute_result"
    }
   ],
   "source": [
    "# Create predictions to use against the test dataset\n",
    "y_pred = rf.predict(x_test)\n",
    "# Create a DataFrame to show the modeled test data's metrics\n",
    "pd.DataFrame(classification_report(y_test, y_pred, output_dict=True)).T"
   ]
  },
  {
   "cell_type": "markdown",
   "id": "598f0741",
   "metadata": {},
   "source": [
    "Our test classification report shows that we can determine whether or not a customer will churn with 80% accuracy. It should be noted that this model only results in a very low recall of 55%. This means that only about 55% of customers who will churn will be identified as such."
   ]
  },
  {
   "cell_type": "markdown",
   "id": "3a0b3d0d",
   "metadata": {},
   "source": [
    "----"
   ]
  },
  {
   "cell_type": "markdown",
   "id": "ba0c355f",
   "metadata": {},
   "source": [
    "### Key Takeaways:"
   ]
  },
  {
   "cell_type": "markdown",
   "id": "d9bf7cde",
   "metadata": {},
   "source": [
    "- Churning customers are paying higher monthly charges versus other non-churning customers.\n",
    "\n",
    "- Most customer churn happens within the first year of tenure.\n",
    "\n",
    "- Internet service type is related to customer churn.\n",
    "\n",
    "- Month-to-month customers churn at a much higher rate versus other contract types."
   ]
  },
  {
   "cell_type": "markdown",
   "id": "943f6c18",
   "metadata": {},
   "source": [
    "### Recommendations"
   ]
  },
  {
   "cell_type": "markdown",
   "id": "a0d5a5fa",
   "metadata": {},
   "source": [
    "- Create a marketing program that directly influences these categories\n",
    "- Decrease the price increase on month-to-month contracts in order to influence attrition positively.\n",
    "- Offer incentivizaton programs that place customers into longer term contracts.\n",
    "- Look for ways to bring a savings to Fiber customers in order to keep them aboard."
   ]
  },
  {
   "cell_type": "markdown",
   "id": "2e75f0b9",
   "metadata": {},
   "source": [
    "### Next Steps:"
   ]
  },
  {
   "cell_type": "markdown",
   "id": "074ed143",
   "metadata": {},
   "source": [
    "- In the future we will be able to use this model in order to predict with 80% accuracy whether or not a customer will churn. Knowing this information will allow us to better focus resources and marketing campaigns in order to reduce customer churn in the future and better effect our bottom line.\n",
    "- A further dive into the data with more time allowed will help in improving the accuracy of our model by identifying more conclusive and impactful drivers. \n"
   ]
  }
 ],
 "metadata": {
  "kernelspec": {
   "display_name": "Python 3 (ipykernel)",
   "language": "python",
   "name": "python3"
  },
  "language_info": {
   "codemirror_mode": {
    "name": "ipython",
    "version": 3
   },
   "file_extension": ".py",
   "mimetype": "text/x-python",
   "name": "python",
   "nbconvert_exporter": "python",
   "pygments_lexer": "ipython3",
   "version": "3.9.7"
  }
 },
 "nbformat": 4,
 "nbformat_minor": 5
}
